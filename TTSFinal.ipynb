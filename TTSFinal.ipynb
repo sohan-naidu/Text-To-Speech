{
 "cells": [
  {
   "cell_type": "code",
   "execution_count": 1,
   "metadata": {},
   "outputs": [],
   "source": [
    "#Importing libraries\n",
    "\n",
    "from gtts import gTTS \n",
    "import os"
   ]
  },
  {
   "cell_type": "code",
   "execution_count": 2,
   "metadata": {},
   "outputs": [],
   "source": [
    "# Defining a function that takes user's text input, converts to speech and saves as a .mp3 file\n",
    "\n",
    "def TextToSpeech(i):\n",
    "    languages = ['en','hi','kn','ta','te']\n",
    "    enter = gTTS(text = \"Enter text\", lang = 'en', lang_check = True)\n",
    "    text = input()\n",
    "    tts = gTTS(text = text, lang = languages[i], lang_check = True)\n",
    "    tts.save(\"tts.mp3\")"
   ]
  },
  {
   "cell_type": "code",
   "execution_count": 3,
   "metadata": {
    "tags": []
   },
   "outputs": [
    {
     "output_type": "stream",
     "name": "stdout",
     "text": "Enter the number of the language you'd like to use : \n1. English\n2. Hindi\n3. Kannada\n4. Tamil\n5. Telugu\n"
    }
   ],
   "source": [
    "# Here the user can select the language of their choice\n",
    "\n",
    "intro_text = \"Enter the number of the language you'd like to use : \"\n",
    "intro = gTTS(text = intro_text, lang = 'en', lang_check = True)\n",
    "intro.save(\"intro.mp3\")\n",
    "os.system(\"intro.mp3\")\n",
    "print(intro_text)\n",
    "print(\"1. English\\n2. Hindi\\n3. Kannada\\n4. Tamil\\n5. Telugu\")"
   ]
  },
  {
   "cell_type": "code",
   "execution_count": 4,
   "metadata": {},
   "outputs": [],
   "source": [
    "# Taking input from user\n",
    "\n",
    "language = int(input())"
   ]
  },
  {
   "cell_type": "code",
   "execution_count": 5,
   "metadata": {
    "tags": []
   },
   "outputs": [
    {
     "output_type": "stream",
     "name": "stdout",
     "text": "You have chosen : English\n"
    }
   ],
   "source": [
    "# if-else block for passing the right arguement for the above defined function\n",
    "\n",
    "if(language == 1):\n",
    "    print(\"You have chosen : English\")\n",
    "    TextToSpeech(0)\n",
    "    \n",
    "elif(language == 2):\n",
    "    print(\"You have chosen : Hindi\")\n",
    "    TextToSpeech(1)\n",
    "\n",
    "elif(language == 3):\n",
    "    print(\"You have chosen : Kannada\")\n",
    "    TextToSpeech(2)\n",
    "\n",
    "elif(language == 4):\n",
    "    print(\"You have chosen : Tamil\")\n",
    "    TextToSpeech(3)\n",
    "\n",
    "else:\n",
    "    print(\"You have chosen : Telugu\")\n",
    "    TextToSpeech(4)"
   ]
  },
  {
   "cell_type": "code",
   "execution_count": null,
   "metadata": {},
   "outputs": [],
   "source": [
    "# Playing the speech file\n",
    "\n",
    "os.system(\"tts.mp3\")"
   ]
  }
 ],
 "metadata": {
  "kernelspec": {
   "display_name": "Python 3.8.2 64-bit",
   "language": "python",
   "name": "python_defaultSpec_1596988853600"
  },
  "language_info": {
   "codemirror_mode": {
    "name": "ipython",
    "version": 3
   },
   "file_extension": ".py",
   "mimetype": "text/x-python",
   "name": "python",
   "nbconvert_exporter": "python",
   "pygments_lexer": "ipython3",
   "version": "3.7.6"
  }
 },
 "nbformat": 4,
 "nbformat_minor": 4
}